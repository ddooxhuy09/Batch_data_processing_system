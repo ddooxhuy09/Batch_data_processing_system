{
 "cells": [
  {
   "cell_type": "code",
   "execution_count": 1,
   "metadata": {},
   "outputs": [],
   "source": [
    "import mysql.connector\n",
    "import numpy as np\n",
    "from sqlalchemy import create_engine\n",
    "import datetime\n",
    "from cassandra.cluster import Cluster\n",
    "from cassandra.cqlengine import columns\n",
    "from cassandra.cqlengine.models import Model\n",
    "from cassandra.cqlengine.management import sync_table\n",
    "from cassandra.cqlengine import connection\n",
    "from cassandra.query import dict_factory\n",
    "from datetime import datetime, timedelta\n",
    "import time\n",
    "import cassandra\n",
    "import random\n",
    "import uuid\n",
    "import math\n",
    "import pandas as pd\n",
    "pd.set_option(\"display.max_rows\", None, \"display.max_columns\", None)"
   ]
  },
  {
   "cell_type": "code",
   "execution_count": 2,
   "metadata": {},
   "outputs": [],
   "source": [
    "def get_data_from_job(user, password, host, database):\n",
    "    cnx = mysql.connector.connect(user=user, password=password, host=host, database=database)\n",
    "    query = \"\"\"select id as job_id,campaign_id , group_id , company_id from job\"\"\"\n",
    "    mysql_data = pd.read_sql(query, cnx)\n",
    "    return mysql_data"
   ]
  },
  {
   "cell_type": "code",
   "execution_count": 3,
   "metadata": {},
   "outputs": [],
   "source": [
    "def get_data_from_publisher(user, password, host, database):\n",
    "    cnx = mysql.connector.connect(user=user, password=password, host=host, database=database)\n",
    "    query = \"\"\"select distinct(id) as publisher_id from master_publisher\"\"\"\n",
    "    mysql_data = pd.read_sql(query, cnx)\n",
    "    return mysql_data"
   ]
  },
  {
   "cell_type": "code",
   "execution_count": 8,
   "metadata": {},
   "outputs": [],
   "source": [
    "def generating_dummy_data(n_records, session, user, password, host, db_name):\n",
    "    publisher = get_data_from_publisher(user, password, host, db_name)\n",
    "    publisher = publisher['publisher_id'].to_list()\n",
    "    jobs_data = get_data_from_job(user, password, host, db_name)\n",
    "    job_list = jobs_data['job_id'].to_list()\n",
    "    campaign_list = jobs_data['campaign_id'].to_list()\n",
    "    company_list = jobs_data['company_id'].to_list()\n",
    "    group_list = jobs_data[jobs_data['group_id'].notnull()]['group_id'].astype(int).to_list()\n",
    "    i = 0\n",
    "    fake_records = n_records\n",
    "    while i <= fake_records:\n",
    "        create_time = str(cassandra.util.uuid_from_time(datetime.now()))\n",
    "        bid = random.randint(0, 1)\n",
    "        interact = ['click', 'conversion', 'qualified', 'unqualified']\n",
    "        custom_track = random.choices(interact, weights=(70, 10, 10, 10))[0]\n",
    "        job_id = random.choice(job_list)\n",
    "        publisher_id = random.choice(publisher)\n",
    "        group_id = random.choice(group_list)\n",
    "        campaign_id = random.choice(campaign_list)\n",
    "        ts = datetime.now().strftime('%Y-%m-%d %H:%M:%S')\n",
    "        sql = \"\"\" INSERT INTO tracking (create_time,bid,campaign_id,custom_track,group_id,job_id,publisher_id,ts) VALUES ({},{},{},'{}',{},{},{},'{}')\"\"\"\\\n",
    "              .format(create_time, bid, campaign_id, custom_track, group_id, job_id, publisher_id, ts)\n",
    "        print(sql)\n",
    "        session.execute(sql)\n",
    "        i += 1\n",
    "    return print(\"Data Generated Successfully\")"
   ]
  },
  {
   "cell_type": "code",
   "execution_count": null,
   "metadata": {},
   "outputs": [],
   "source": [
    "host = 'localhost'\n",
    "port = '3306'\n",
    "db_name = 'data_engineer'\n",
    "user = 'root'\n",
    "password = ''\n",
    "url = 'jdbc:mysql://' + host + ':' + port + '/' + db_name\n",
    "driver = \"com.mysql.cj.jdbc.Driver\"\n",
    "\n",
    "keyspace = 'study_de'\n",
    "cassandra_login = 'cassandra'\n",
    "cassandra_password = 'cassandra'\n",
    "cluster = Cluster()\n",
    "session = cluster.connect(keyspace)\n",
    "\n",
    "status = \"ON\"\n",
    "while status == \"ON\":\n",
    "    generating_dummy_data(n_records=random.randint(1, 20), session=session, user=user, password=password, host=host, db_name=db_name)\n",
    "    time.sleep(20)"
   ]
  }
 ],
 "metadata": {
  "kernelspec": {
   "display_name": "base",
   "language": "python",
   "name": "python3"
  },
  "language_info": {
   "codemirror_mode": {
    "name": "ipython",
    "version": 3
   },
   "file_extension": ".py",
   "mimetype": "text/x-python",
   "name": "python",
   "nbconvert_exporter": "python",
   "pygments_lexer": "ipython3",
   "version": "3.10.9"
  },
  "orig_nbformat": 4
 },
 "nbformat": 4,
 "nbformat_minor": 2
}
